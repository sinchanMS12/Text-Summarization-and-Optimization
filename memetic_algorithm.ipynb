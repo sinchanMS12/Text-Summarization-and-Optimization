{
  "nbformat": 4,
  "nbformat_minor": 0,
  "metadata": {
    "colab": {
      "provenance": [],
      "mount_file_id": "1-Zd5q9ukNGc4sbob4e1WOA5_aiAEVH5N",
      "authorship_tag": "ABX9TyMhic4xY7Wcquo7ZMrHXfYs",
      "include_colab_link": true
    },
    "kernelspec": {
      "name": "python3",
      "display_name": "Python 3"
    },
    "language_info": {
      "name": "python"
    }
  },
  "cells": [
    {
      "cell_type": "markdown",
      "metadata": {
        "id": "view-in-github",
        "colab_type": "text"
      },
      "source": [
        "<a href=\"https://colab.research.google.com/github/sinchanMS12/Text-Summarization-and-Optimization/blob/main/memetic_algorithm.ipynb\" target=\"_parent\"><img src=\"https://colab.research.google.com/assets/colab-badge.svg\" alt=\"Open In Colab\"/></a>"
      ]
    },
    {
      "cell_type": "code",
      "source": [
        "! pip install deap"
      ],
      "metadata": {
        "colab": {
          "base_uri": "https://localhost:8080/"
        },
        "id": "xKbvyyrUU5-W",
        "outputId": "5d533f8f-eb5a-4288-94f9-8e5ab2ac9f83"
      },
      "execution_count": null,
      "outputs": [
        {
          "output_type": "stream",
          "name": "stdout",
          "text": [
            "Collecting deap\n",
            "  Downloading deap-1.4.1-cp310-cp310-manylinux_2_5_x86_64.manylinux1_x86_64.manylinux_2_17_x86_64.manylinux2014_x86_64.whl.metadata (13 kB)\n",
            "Requirement already satisfied: numpy in /usr/local/lib/python3.10/dist-packages (from deap) (1.26.4)\n",
            "Downloading deap-1.4.1-cp310-cp310-manylinux_2_5_x86_64.manylinux1_x86_64.manylinux_2_17_x86_64.manylinux2014_x86_64.whl (135 kB)\n",
            "\u001b[2K   \u001b[90m━━━━━━━━━━━━━━━━━━━━━━━━━━━━━━━━━━━━━━━━\u001b[0m \u001b[32m135.4/135.4 kB\u001b[0m \u001b[31m1.2 MB/s\u001b[0m eta \u001b[36m0:00:00\u001b[0m\n",
            "\u001b[?25hInstalling collected packages: deap\n",
            "Successfully installed deap-1.4.1\n"
          ]
        }
      ]
    },
    {
      "cell_type": "code",
      "source": [
        "import numpy as np\n",
        "import pandas as pd\n",
        "import matplotlib.pyplot as plt\n",
        "from sklearn.model_selection import train_test_split\n",
        "from sklearn.preprocessing import StandardScaler, LabelEncoder\n",
        "from sklearn.metrics import accuracy_score\n",
        "from sklearn.neighbors import KNeighborsClassifier\n",
        "from deap import base, creator, tools, algorithms\n",
        "\n",
        "# Step 1: Data Upload\n",
        "def upload_data():\n",
        "    file_path = \"/content/amazon_trends.csv\"\n",
        "    dataset = pd.read_csv(file_path)\n",
        "    print(\"Dataset loaded with shape:\", dataset.shape)\n",
        "    return dataset\n",
        "\n",
        "# Step 2: Data Preprocessing\n",
        "def preprocess_data(dataset):\n",
        "    print(\"First few rows of the dataset before preprocessing:\")\n",
        "    print(dataset.head())\n",
        "\n",
        "    dataset = dataset.dropna()\n",
        "    print(\"Dataset shape after dropping missing values:\", dataset.shape)\n",
        "\n",
        "    if 'Date' in dataset.columns:\n",
        "        dataset['Date'] = pd.to_datetime(dataset['Date'])\n",
        "        dataset['Year'] = dataset['Date'].dt.year\n",
        "        dataset['Month'] = dataset['Date'].dt.month\n",
        "        dataset['Day'] = dataset['Date'].dt.day\n",
        "        dataset = dataset.drop('Date', axis=1)\n",
        "\n",
        "    for column in dataset.select_dtypes(include=['object']).columns:\n",
        "        encoder = LabelEncoder()\n",
        "        dataset[column] = encoder.fit_transform(dataset[column])\n",
        "\n",
        "    X = dataset.iloc[:, :-1].values\n",
        "    y = dataset.iloc[:, -1].values\n",
        "\n",
        "    print(\"Feature shape:\", X.shape)\n",
        "    print(\"Target shape:\", y.shape)\n",
        "\n",
        "    scaler = StandardScaler()\n",
        "    X = scaler.fit_transform(X)\n",
        "\n",
        "    return X, y\n",
        "\n",
        "# Step 3: Model Training and Evaluation\n",
        "def evaluate_model(X, y, n_neighbors):\n",
        "    X_train, X_test, y_train, y_test = train_test_split(X, y, test_size=0.2, random_state=42)\n",
        "    model = KNeighborsClassifier(n_neighbors=n_neighbors)\n",
        "    model.fit(X_train, y_train)\n",
        "    y_pred = model.predict(X_test)\n",
        "    accuracy = accuracy_score(y_test, y_pred)\n",
        "    return accuracy\n",
        "\n",
        "# Local Search Function\n",
        "def local_search(individual, X, y, search_radius=1):\n",
        "    current_neighbors = int(individual[0])\n",
        "    best_accuracy = evaluate_model(X, y, current_neighbors)\n",
        "\n",
        "    # Explore neighbors in the search radius\n",
        "    for neighbors in range(current_neighbors - search_radius, current_neighbors + search_radius + 1):\n",
        "        if 1 <= neighbors <= 50:  # Ensure the number of neighbors is within the valid range\n",
        "            accuracy = evaluate_model(X, y, neighbors)\n",
        "            if accuracy > best_accuracy:\n",
        "                individual[0] = neighbors\n",
        "                best_accuracy = accuracy\n",
        "\n",
        "    return individual,\n",
        "\n",
        "# Memetic Algorithm for Optimization\n",
        "def memetic_optimization(X, y):\n",
        "    creator.create(\"FitnessMax\", base.Fitness, weights=(1.0,))\n",
        "    creator.create(\"Individual\", list, fitness=creator.FitnessMax)\n",
        "\n",
        "    toolbox = base.Toolbox()\n",
        "    toolbox.register(\"attr_int\", np.random.randint, 1, 50)\n",
        "    toolbox.register(\"individual\", tools.initRepeat, creator.Individual, toolbox.attr_int, n=1)\n",
        "    toolbox.register(\"population\", tools.initRepeat, list, toolbox.individual)\n",
        "    toolbox.register(\"evaluate\", lambda ind: (evaluate_model(X, y, int(round(ind[0]))),))\n",
        "    toolbox.register(\"mate\", tools.cxBlend, alpha=0.5)\n",
        "    toolbox.register(\"mutate\", tools.mutPolynomialBounded, low=1, up=50, eta=1.0, indpb=0.2)\n",
        "    toolbox.register(\"select\", tools.selTournament, tournsize=3)\n",
        "\n",
        "    population = toolbox.population(n=10)\n",
        "    ngen, cxpb, mutpb = 10, 0.5, 0.2\n",
        "\n",
        "    # Register local search with the toolbox\n",
        "    toolbox.register(\"local_search\", local_search, X=X, y=y)\n",
        "\n",
        "    accuracies = []\n",
        "    neighbor_counts = []\n",
        "\n",
        "    for gen in range(ngen):\n",
        "        offspring = toolbox.select(population, len(population))\n",
        "        offspring = list(map(toolbox.clone, offspring))\n",
        "\n",
        "        for child1, child2 in zip(offspring[::2], offspring[1::2]):\n",
        "            if np.random.random() < cxpb:\n",
        "                toolbox.mate(child1, child2)\n",
        "                del child1.fitness.values\n",
        "                del child2.fitness.values\n",
        "\n",
        "        for mutant in offspring:\n",
        "            if np.random.random() < mutpb:\n",
        "                toolbox.mutate(mutant)\n",
        "                del mutant.fitness.values\n",
        "\n",
        "        # Apply local search to offspring\n",
        "        for ind in offspring:\n",
        "            ind, = toolbox.local_search(ind)\n",
        "\n",
        "        invalid_ind = [ind for ind in offspring if not ind.fitness.valid]\n",
        "        fitnesses = map(toolbox.evaluate, invalid_ind)\n",
        "        for ind, fit in zip(invalid_ind, fitnesses):\n",
        "            ind.fitness.values = fit\n",
        "\n",
        "        population[:] = offspring\n",
        "\n",
        "        # Log the performance for analysis\n",
        "        for ind in population:\n",
        "            accuracy = evaluate_model(X, y, int(round(ind[0])))\n",
        "            accuracies.append(accuracy)\n",
        "            neighbor_counts.append(int(round(ind[0])))\n",
        "\n",
        "        print(f\"Generation {gen + 1}: Best fitness = {tools.selBest(population, 1)[0].fitness.values[0]}\")\n",
        "\n",
        "    plt.figure(figsize=(10, 6))\n",
        "    plt.scatter(neighbor_counts, accuracies, c='blue', label='Accuracy vs. Neighbors')\n",
        "    plt.xlabel('Number of Neighbors')\n",
        "    plt.ylabel('Accuracy')\n",
        "    plt.title('KNN Accuracy for Different Number of Neighbors')\n",
        "    plt.legend()\n",
        "    plt.grid(True)\n",
        "    plt.show()\n",
        "\n",
        "    best_individual = tools.selBest(population, 1)[0]\n",
        "    return int(round(best_individual[0]))\n",
        "\n",
        "# Main execution function\n",
        "def main():\n",
        "    dataset = upload_data()\n",
        "    X, y = preprocess_data(dataset)\n",
        "    optimal_neighbors = memetic_optimization(X, y)\n",
        "    print(f\"Optimal number of neighbors: {optimal_neighbors}\")\n",
        "    accuracy = evaluate_model(X, y, optimal_neighbors)\n",
        "    print(f\"Accuracy with optimal number of neighbors: {accuracy:.2f}\")\n",
        "\n",
        "if __name__ == \"__main__\":\n",
        "    main()\n"
      ],
      "metadata": {
        "colab": {
          "base_uri": "https://localhost:8080/",
          "height": 984
        },
        "id": "OsHH2uQoUwTl",
        "outputId": "420d8019-db15-40b2-abae-12796b1f4813"
      },
      "execution_count": null,
      "outputs": [
        {
          "output_type": "stream",
          "name": "stdout",
          "text": [
            "Dataset loaded with shape: (5435, 2)\n",
            "First few rows of the dataset before preprocessing:\n",
            "         Date  Google_Trends\n",
            "0  2005-01-01             37\n",
            "1  2005-01-02             68\n",
            "2  2005-01-03             56\n",
            "3  2005-01-04             82\n",
            "4  2005-01-05             42\n",
            "Dataset shape after dropping missing values: (5435, 2)\n",
            "Feature shape: (5435, 3)\n",
            "Target shape: (5435,)\n",
            "Generation 1: Best fitness = 0.01655933762649494\n",
            "Generation 2: Best fitness = 0.01655933762649494\n",
            "Generation 3: Best fitness = 0.01655933762649494\n",
            "Generation 4: Best fitness = 0.01655933762649494\n",
            "Generation 5: Best fitness = 0.01655933762649494\n",
            "Generation 6: Best fitness = 0.01655933762649494\n",
            "Generation 7: Best fitness = 0.01655933762649494\n",
            "Generation 8: Best fitness = 0.01655933762649494\n",
            "Generation 9: Best fitness = 0.01655933762649494\n",
            "Generation 10: Best fitness = 0.01655933762649494\n"
          ]
        },
        {
          "output_type": "display_data",
          "data": {
            "text/plain": [
              "<Figure size 1000x600 with 1 Axes>"
            ],
            "image/png": "[encoded data removed]"
          },
          "metadata": {}
        },
        {
          "output_type": "stream",
          "name": "stdout",
          "text": [
            "Optimal number of neighbors: 29\n",
            "Accuracy with optimal number of neighbors: 0.02\n"
          ]
        }
      ]
    },
    {
      "cell_type": "code",
      "source": [],
      "metadata": {
        "id": "sc1ZLc1-U365"
      },
      "execution_count": null,
      "outputs": []
    }
  ]
}